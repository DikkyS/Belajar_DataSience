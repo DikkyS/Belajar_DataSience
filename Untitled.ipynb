{
 "cells": [
  {
   "cell_type": "code",
   "execution_count": 2,
   "id": "416be863-0e16-4461-91c3-63e8d40c49f3",
   "metadata": {},
   "outputs": [
    {
     "name": "stdout",
     "output_type": "stream",
     "text": [
      " Hello belajar Git dg Python\n"
     ]
    }
   ],
   "source": [
    "print (\" Hello belajar Git dg Python\")\n",
    "       "
   ]
  },
  {
   "cell_type": "code",
   "execution_count": 1,
   "id": "674c6938-554f-4890-8a79-22b81f7705ab",
   "metadata": {},
   "outputs": [
    {
     "name": "stdout",
     "output_type": "stream",
     "text": [
      "usia kategori 20 tahunan\n"
     ]
    }
   ],
   "source": [
    "umur_citra = 25\n",
    "\n",
    "if umur_citra >= 20 and umur_citra < 30: # if conditional statement\n",
    "    print(\"usia kategori 20 tahunan\")"
   ]
  },
  {
   "cell_type": "code",
   "execution_count": 2,
   "id": "babd9b7b-bc0c-4e3f-b734-10e1805d8958",
   "metadata": {},
   "outputs": [
    {
     "name": "stdout",
     "output_type": "stream",
     "text": [
      "Kategori Menengah\n"
     ]
    }
   ],
   "source": [
    "gaji = 10000000\n",
    "\n",
    "if gaji > 5000000:\n",
    "    print(\"Kategori Menengah\")"
   ]
  },
  {
   "cell_type": "code",
   "execution_count": 3,
   "id": "49d08ca8-066b-414e-bae0-ae22ed15dc63",
   "metadata": {},
   "outputs": [
    {
     "name": "stdout",
     "output_type": "stream",
     "text": [
      "Kategori UMR\n"
     ]
    }
   ],
   "source": [
    "gaji = 4000000\n",
    "\n",
    "if gaji > 5000000:\n",
    "    print(\"Kategori Menengah\")\n",
    "elif gaji < 5000000:\n",
    "    print(\"Kategori UMR\")"
   ]
  },
  {
   "cell_type": "code",
   "execution_count": 4,
   "id": "f2ccdf99-638d-47b9-8101-9330df23bea7",
   "metadata": {},
   "outputs": [
    {
     "name": "stdout",
     "output_type": "stream",
     "text": [
      "Kategori Kaya\n",
      "Gaji bersih = 16000000.0\n"
     ]
    }
   ],
   "source": [
    "gaji = 20000000\n",
    "pajak = 20\n",
    "\n",
    "if (gaji > 5000000) and (gaji < 1000000):\n",
    "    print(\"Kategori Menengah\")\n",
    "    gaji = gaji - (gaji * pajak)/100\n",
    "    print(f\"Gaji bersih = {gaji}\")\n",
    "elif gaji < 5000000:\n",
    "    print(\"Kategori UMR\")\n",
    "    gaji = gaji - (gaji * pajak)/100\n",
    "    print(f\"Gaji bersih = {gaji}\")\n",
    "else:\n",
    "    print(\"Kategori Kaya\")\n",
    "    gaji = gaji - (gaji * pajak)/100\n",
    "    print(f\"Gaji bersih = {gaji}\")"
   ]
  },
  {
   "cell_type": "code",
   "execution_count": null,
   "id": "2b76fd04-b132-4114-8f95-569d14faa2f9",
   "metadata": {},
   "outputs": [],
   "source": []
  }
 ],
 "metadata": {
  "kernelspec": {
   "display_name": "Python 3 (ipykernel)",
   "language": "python",
   "name": "python3"
  },
  "language_info": {
   "codemirror_mode": {
    "name": "ipython",
    "version": 3
   },
   "file_extension": ".py",
   "mimetype": "text/x-python",
   "name": "python",
   "nbconvert_exporter": "python",
   "pygments_lexer": "ipython3",
   "version": "3.11.8"
  }
 },
 "nbformat": 4,
 "nbformat_minor": 5
}
